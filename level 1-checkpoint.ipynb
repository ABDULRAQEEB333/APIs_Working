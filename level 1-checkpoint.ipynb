{
 "cells": [
  {
   "cell_type": "code",
   "execution_count": 9,
   "metadata": {},
   "outputs": [
    {
     "name": "stdout",
     "output_type": "stream",
     "text": [
      "\n",
      "Status code : 200\n",
      "Keys : dict_keys(['Response', 'Message', 'Type', 'Aggregated', 'Data'])\n"
     ]
    }
   ],
   "source": [
    "import requests\n",
    "\n",
    "# Make an API call and store the response object\n",
    "\n",
    "url = \"https://min-api.cryptocompare.com/data/histominute?fsym=BTC&tsym=USD&limit=60&aggregate=3&e=CCCAGG,\"\n",
    "r = requests.get(url)\n",
    "print(\"\\nStatus code : \" +str(r.status_code))\n",
    "\n",
    "# Storing the API's response \n",
    "\n",
    "req_dict = r.json()\n",
    "print(\"Keys : \" +str(req_dict.keys()))\n"
   ]
  },
  {
   "cell_type": "code",
   "execution_count": null,
   "metadata": {
    "collapsed": true
   },
   "outputs": [],
   "source": []
  }
 ],
 "metadata": {
  "kernelspec": {
   "display_name": "Python 3",
   "language": "python",
   "name": "python3"
  },
  "language_info": {
   "codemirror_mode": {
    "name": "ipython",
    "version": 3
   },
   "file_extension": ".py",
   "mimetype": "text/x-python",
   "name": "python",
   "nbconvert_exporter": "python",
   "pygments_lexer": "ipython3",
   "version": "3.6.3"
  }
 },
 "nbformat": 4,
 "nbformat_minor": 1
}
