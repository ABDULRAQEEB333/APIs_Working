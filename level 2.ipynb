{
 "cells": [
  {
   "cell_type": "code",
   "execution_count": 15,
   "metadata": {
    "collapsed": true
   },
   "outputs": [
    {
     "name": "stdout",
     "output_type": "stream",
     "text": [
      "Keys : dict_keys(['total_count', 'incomplete_results', 'items'])\nTotal no. of repositries : 2428847\nRepositries returned : 30\nNumber of keys : 72\nAll Keys of a repository :\n \narchive_url\narchived\nassignees_url\nblobs_url\nbranches_url\nclone_url\ncollaborators_url\ncomments_url\ncommits_url\ncompare_url\ncontents_url\ncontributors_url\ncreated_at\ndefault_branch\ndeployments_url\ndescription\ndownloads_url\nevents_url\nfork\nforks\nforks_count\nforks_url\nfull_name\ngit_commits_url\ngit_refs_url\ngit_tags_url\ngit_url\nhas_downloads\nhas_issues\nhas_pages\nhas_projects\nhas_wiki\nhomepage\nhooks_url\nhtml_url\nid\nissue_comment_url\nissue_events_url\nissues_url\nkeys_url\nlabels_url\nlanguage\nlanguages_url\nlicense\nmerges_url\nmilestones_url\nmirror_url\nname\nnotifications_url\nopen_issues\nopen_issues_count\nowner\nprivate\npulls_url\npushed_at\nreleases_url\nscore\nsize\nssh_url\nstargazers_count\nstargazers_url\nstatuses_url\nsubscribers_url\nsubscription_url\nsvn_url\ntags_url\nteams_url\ntrees_url\nupdated_at\nurl\nwatchers\nwatchers_count\n"
     ]
    }
   ],
   "source": [
    "#  Using GitHub’s API to request information about Python projects on the site with\n",
    "#  complete keys of single repo \n",
    "\n",
    "import requests\n",
    "url = \" https://api.github.com/search/repositories?q=language:python&sort=stars \"\n",
    "r = requests.get(url)\n",
    "response_dict = r.json()\n",
    "print(\"\\nKeys : \" +str(response_dict.keys()))\n",
    "tot_repos = response_dict[\"total_count\"]\n",
    "key_info = response_dict[\"items\"]\n",
    "    \n",
    "print(\"Total no. of repositries : \" +str(tot_repos))\n",
    "print(\"Repositries returned : \" +str(len(key_info)))\n",
    "    \n",
    "single_repo = key_info[0]\n",
    "print(\"Number of keys : \"+str(len(single_repo)))\n",
    "print(\"All Keys of a repository :\\n \")\n",
    "for info in sorted(single_repo):\n",
    "     print(info)\n",
    "        "
   ]
  },
  {
   "cell_type": "code",
   "execution_count": 27,
   "metadata": {},
   "outputs": [
    {
     "name": "stdout",
     "output_type": "stream",
     "text": [
      "\nKeys : dict_keys(['total_count', 'incomplete_results', 'items'])\nTotal no. of repositries : 2428884\nRepositries returned : 30\n\n****** 1st REPO ******\n\nNumber of keys : 72\nID : 21289110\nName : awesome-python\nOwner : vinta\nRepo URL : https://github.com/vinta/awesome-python\nStars : 46572\nDescription : A curated list of awesome Python frameworks, libraries, software and resources\n\n****** 2nd REPO ******\n\nNumber of keys : 72\nID : 1039520\nName : youtube-dl\nOwner : rg3\nRepo URL : https://github.com/rg3/youtube-dl\nStars : 34662\nDescription : Command-line program to download videos from YouTube.com and other video sites\n"
     ]
    }
   ],
   "source": [
    "# Printing Selected keys of 2 different Repos \n",
    "\n",
    "import requests\n",
    "url = \" https://api.github.com/search/repositories?q=language:python&sort=stars \"\n",
    "r = requests.get(url)\n",
    "response_dict = r.json()\n",
    "print(\"\\nKeys : \" +str(response_dict.keys()))\n",
    "tot_repos = response_dict[\"total_count\"]\n",
    "key_info = response_dict[\"items\"]\n",
    "    \n",
    "print(\"Total no. of repositries : \" +str(tot_repos))\n",
    "print(\"Repositries returned : \" +str(len(key_info)))\n",
    "    \n",
    "print(\"\\n****** 1st REPO ******\")\n",
    "single_repo = key_info[0]\n",
    "print(\"\\nNumber of keys : \"+str(len(single_repo)))\n",
    "print(\"ID : \" +str(single_repo[\"id\"]))\n",
    "print(\"Name : \" +str(single_repo[\"name\"]))\n",
    "print(\"Owner : \" +str(single_repo[\"owner\"][\"login\"]))\n",
    "print(\"Repo URL : \" +str(single_repo[\"html_url\"]))\n",
    "print(\"Stars : \" +str(single_repo[\"stargazers_count\"]))\n",
    "print(\"Description : \" +str(single_repo[\"description\"]))\n",
    "\n",
    "print(\"\\n****** 2nd REPO ******\")\n",
    "single_repo = key_info[1]\n",
    "print(\"\\nNumber of keys : \"+str(len(single_repo)))\n",
    "print(\"ID : \" +str(single_repo[\"id\"]))\n",
    "print(\"Name : \" +str(single_repo[\"name\"]))\n",
    "print(\"Owner : \" +str(single_repo[\"owner\"][\"login\"]))\n",
    "print(\"Repo URL : \" +str(single_repo[\"html_url\"]))\n",
    "print(\"Stars : \" +str(single_repo[\"stargazers_count\"]))\n",
    "print(\"Description : \" +str(single_repo[\"description\"]))\n",
    "\n",
    "\n",
    "      \n",
    "      "
   ]
  },
  {
   "cell_type": "code",
   "execution_count": null,
   "metadata": {},
   "outputs": [],
   "source": []
  }
 ],
 "metadata": {
  "kernelspec": {
   "display_name": "Python 2",
   "language": "python",
   "name": "python2"
  },
  "language_info": {
   "codemirror_mode": {
    "name": "ipython",
    "version": 2
   },
   "file_extension": ".py",
   "mimetype": "text/x-python",
   "name": "python",
   "nbconvert_exporter": "python",
   "pygments_lexer": "ipython2",
   "version": "2.7.6"
  }
 },
 "nbformat": 4,
 "nbformat_minor": 0
}
